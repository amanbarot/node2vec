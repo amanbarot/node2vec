{
 "cells": [
  {
   "cell_type": "markdown",
   "id": "ef523f06",
   "metadata": {},
   "source": [
    "# Example of Generating Node Embeddings for a Graph from SBM\n",
    "\n",
    "*By: Aman Barot*\n",
    "\n",
    "This notebook first generates a graph from the Stochastic Block Model (SBM). Then, it generates node embeddings for that graph."
   ]
  },
  {
   "cell_type": "code",
   "execution_count": 1,
   "id": "d696dd00",
   "metadata": {},
   "outputs": [],
   "source": [
    "import networkx as nx\n",
    "import numpy as np\n",
    "import torch\n",
    "# my modules below for node2vec \n",
    "import gen_node2vec_walks\n",
    "import gen_embeddings"
   ]
  },
  {
   "cell_type": "code",
   "execution_count": 2,
   "id": "9bf8548d",
   "metadata": {},
   "outputs": [],
   "source": [
    "# setting the device\n",
    "# MPS is for Apple Silicon Macs, CUDA is for NVIDIA GPUs, and CPU is the fallback\n",
    "device = None\n",
    "if torch.backends.mps.is_available():\n",
    "    device = torch.device('mps')\n",
    "elif torch.cuda.is_available():\n",
    "    device = torch.device('cuda')\n",
    "else:\n",
    "    device = torch.device('cpu')"
   ]
  },
  {
   "cell_type": "markdown",
   "id": "2754555b",
   "metadata": {},
   "source": [
    "## Generating SBM and Node Embeddings"
   ]
  },
  {
   "cell_type": "markdown",
   "id": "74de8d77",
   "metadata": {},
   "source": [
    "### Generating graph from SBM"
   ]
  },
  {
   "cell_type": "code",
   "execution_count": 3,
   "id": "aff1cdd3",
   "metadata": {},
   "outputs": [],
   "source": [
    "n_nodes = 500\n",
    "n_comm = 5\n",
    "p_in = 0.5 * (50 * 5/n_nodes)\n",
    "p_out = 0.01 * (50 * 5/n_nodes)"
   ]
  },
  {
   "cell_type": "code",
   "execution_count": 4,
   "id": "01ede171",
   "metadata": {},
   "outputs": [
    {
     "name": "stdout",
     "output_type": "stream",
     "text": [
      "p_in: 0.25, p_out: 0.005\n",
      "Within comm. degree: 25.0,       Between comm. degree: 2.0\n"
     ]
    }
   ],
   "source": [
    "print(f\"p_in: {p_in}, p_out: {p_out}\")\n",
    "print(f\"Within comm. degree: {n_nodes/n_comm * p_in}, \\\n",
    "      Between comm. degree: {n_nodes/n_comm * p_out * (n_comm - 1)}\")"
   ]
  },
  {
   "cell_type": "code",
   "execution_count": 5,
   "id": "faea6d5c",
   "metadata": {},
   "outputs": [],
   "source": [
    "comm_sizes = np.full(n_comm, n_nodes // n_comm)\n",
    "# Adjust the last community size if n_nodes is not divisible by n_comm\n",
    "comm_sizes[-1] += n_nodes % n_comm  \n",
    "comm_sizes = comm_sizes.tolist()\n",
    "comm_labels = np.full(n_nodes, n_comm - 1)  # Default to last community\n",
    "for i in range(n_comm - 1):\n",
    "    # The first n_comm-1 communities will have equal sizes\n",
    "    comm_labels[i * (n_nodes // n_comm):(i + 1) * (n_nodes // n_comm)] = i\n",
    "block_matrix = np.full((n_comm, n_comm), p_out)\n",
    "np.fill_diagonal(block_matrix, p_in) #in-place mod. of diagonal\n",
    "G = nx.stochastic_block_model(\n",
    "    sizes=comm_sizes,\n",
    "    p=block_matrix,\n",
    "    seed=0,\n",
    "    directed=False,\n",
    "    selfloops=False,\n",
    ")"
   ]
  },
  {
   "cell_type": "markdown",
   "id": "2a0de307",
   "metadata": {},
   "source": [
    "### Generating Node Embeddings"
   ]
  },
  {
   "cell_type": "markdown",
   "id": "b4ade2e8",
   "metadata": {},
   "source": [
    "Generating random walks using Deepwalk"
   ]
  },
  {
   "cell_type": "code",
   "execution_count": 6,
   "id": "64fcf6a7",
   "metadata": {},
   "outputs": [],
   "source": [
    "random_walks = gen_node2vec_walks.simulate_walks(\n",
    "    G=G, \n",
    "    num_walks=10, \n",
    "    walk_length=80, \n",
    "    p=1.0, \n",
    "    q=1.0,\n",
    "    )"
   ]
  },
  {
   "cell_type": "markdown",
   "id": "9512a5a6",
   "metadata": {},
   "source": [
    "Setting negative sampling distribution to be unigram distribution raise to the power of $0.75$."
   ]
  },
  {
   "cell_type": "code",
   "execution_count": 7,
   "id": "aab807a5",
   "metadata": {},
   "outputs": [],
   "source": [
    "word_dist = np.zeros(n_nodes)\n",
    "for walk in random_walks:\n",
    "    for word in walk:\n",
    "        word_dist[word] += 1\n",
    "\n",
    "word_dist /= np.sum(word_dist) \n",
    "word_dist = word_dist ** 0.75"
   ]
  },
  {
   "cell_type": "markdown",
   "id": "d301b9a3",
   "metadata": {},
   "source": [
    "The context window is given by the parameters `t_L` and `t_U`. Below, we get all co-occurences in a window of size $10$. "
   ]
  },
  {
   "cell_type": "code",
   "execution_count": 8,
   "id": "9e3e9901",
   "metadata": {},
   "outputs": [],
   "source": [
    "train_output = gen_embeddings.gen_embeddings(\n",
    "    n=n_nodes,\n",
    "    g_walks=random_walks,\n",
    "    embed_dim=5,\n",
    "    t_L=1, t_U=10,\n",
    "    neg_sample_ct=5,\n",
    "    device=device,\n",
    "    batch_size=1024,\n",
    "    n_epochs=2,\n",
    "    word_dist=word_dist,\n",
    ")"
   ]
  }
 ],
 "metadata": {
  "kernelspec": {
   "display_name": "Python 3 (ipykernel)",
   "language": "python",
   "name": "python3"
  },
  "language_info": {
   "codemirror_mode": {
    "name": "ipython",
    "version": 3
   },
   "file_extension": ".py",
   "mimetype": "text/x-python",
   "name": "python",
   "nbconvert_exporter": "python",
   "pygments_lexer": "ipython3",
   "version": "3.10.10"
  }
 },
 "nbformat": 4,
 "nbformat_minor": 5
}
