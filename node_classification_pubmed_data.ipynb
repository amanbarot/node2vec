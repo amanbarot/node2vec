{
 "cells": [
  {
   "cell_type": "markdown",
   "id": "d40515d7",
   "metadata": {},
   "source": [
    "# Node Classification Using Node Embeddings\n",
    "\n",
    "*By: Aman Barot*\n",
    "\n",
    "This notebook performs node classification using node embeddings. Two sets of embeddings are used: DeepWalk and node2vec. The data set used is the PubMed citation network data set. In summary, both DeepWalk and node2vec have an **accuracy around 70% on test data**."
   ]
  },
  {
   "cell_type": "code",
   "execution_count": 12,
   "id": "e171c9dc",
   "metadata": {},
   "outputs": [],
   "source": [
    "from torch_geometric.datasets import Planetoid\n",
    "import torch\n",
    "from sklearn.linear_model import LogisticRegression\n",
    "from sklearn.metrics import accuracy_score, classification_report\n"
   ]
  },
  {
   "cell_type": "code",
   "execution_count": 13,
   "id": "955af230",
   "metadata": {},
   "outputs": [],
   "source": [
    "# setting the device\n",
    "# MPS is for Apple Silicon Macs, CUDA is for NVIDIA GPUs, and CPU is the fallback\n",
    "device = None\n",
    "if torch.backends.mps.is_available():\n",
    "    device = torch.device('mps')\n",
    "elif torch.cuda.is_available():\n",
    "    device = torch.device('cuda')\n",
    "else:\n",
    "    device = torch.device('cpu')"
   ]
  },
  {
   "cell_type": "markdown",
   "id": "b95ee0b0",
   "metadata": {},
   "source": [
    "## Data Set Description\n",
    "\n",
    "The PubMed dataset is a citation network data set. Each node in the network is a biomedical research paper and the edges correspond to citations between papers. There are a total of 19,717 nodes in the graph."
   ]
  },
  {
   "cell_type": "code",
   "execution_count": 14,
   "id": "c0072b40",
   "metadata": {},
   "outputs": [],
   "source": [
    "pubmed_data = Planetoid(root='data/', name='PubMed',)"
   ]
  },
  {
   "cell_type": "markdown",
   "id": "276431b9",
   "metadata": {},
   "source": [
    "## Node Classification using DeepWalk Embeddings"
   ]
  },
  {
   "cell_type": "code",
   "execution_count": 15,
   "id": "67398af6",
   "metadata": {},
   "outputs": [],
   "source": [
    "train_output = torch.load(\n",
    "    \"checkpoints/run_20250712_225510/ckpt_epoch_0_batch_269568.pt\"\n",
    "    )['model_state_dict']"
   ]
  },
  {
   "cell_type": "code",
   "execution_count": 16,
   "id": "1b21c95c",
   "metadata": {},
   "outputs": [],
   "source": [
    "# Get train and validation masks from the Planetoid dataset\n",
    "train_mask = pubmed_data[0].train_mask.numpy()\n",
    "val_mask = pubmed_data[0].val_mask.numpy()\n",
    "labels_all = pubmed_data[0].y.numpy()\n",
    "\n",
    "# Prepare train and validation sets using node embeddings\n",
    "X = train_output['inp_emb.weight'].detach().cpu().numpy()\n",
    "y = labels_all\n",
    "\n",
    "X_train = X[train_mask]\n",
    "y_train = y[train_mask]\n",
    "X_val = X[val_mask]\n",
    "y_val = y[val_mask]"
   ]
  },
  {
   "cell_type": "markdown",
   "id": "0c7da8f9",
   "metadata": {},
   "source": [
    "### Performance on Validation and Testing Sets"
   ]
  },
  {
   "cell_type": "code",
   "execution_count": 17,
   "id": "45b991ef",
   "metadata": {},
   "outputs": [
    {
     "name": "stdout",
     "output_type": "stream",
     "text": [
      "Validation Accuracy (Logistic Regression): 0.7300\n",
      "Classification Report (Logistic Regression):\n",
      "               precision    recall  f1-score   support\n",
      "\n",
      "           0       0.64      0.70      0.67        98\n",
      "           1       0.72      0.79      0.75       194\n",
      "           2       0.79      0.69      0.74       208\n",
      "\n",
      "    accuracy                           0.73       500\n",
      "   macro avg       0.72      0.73      0.72       500\n",
      "weighted avg       0.74      0.73      0.73       500\n",
      "\n"
     ]
    }
   ],
   "source": [
    "\n",
    "# Train logistic regression on train set\n",
    "logreg = LogisticRegression(max_iter=1000, solver='lbfgs')\n",
    "logreg.fit(X_train, y_train)\n",
    "\n",
    "# Predict on validation set\n",
    "y_val_pred_logreg = logreg.predict(X_val)\n",
    "\n",
    "# Evaluate\n",
    "acc_logreg = accuracy_score(y_val, y_val_pred_logreg)\n",
    "report_logreg = classification_report(y_val, y_val_pred_logreg)\n",
    "print(f\"Validation Accuracy (Logistic Regression): {acc_logreg:.4f}\")\n",
    "print(\"Classification Report (Logistic Regression):\\n\", report_logreg)"
   ]
  },
  {
   "cell_type": "code",
   "execution_count": 18,
   "id": "571c3c50",
   "metadata": {},
   "outputs": [
    {
     "name": "stdout",
     "output_type": "stream",
     "text": [
      "Test Accuracy (Logistic Regression): 0.7090\n",
      "Classification Report (Logistic Regression):\n",
      "               precision    recall  f1-score   support\n",
      "\n",
      "           0       0.60      0.68      0.64       180\n",
      "           1       0.69      0.78      0.74       413\n",
      "           2       0.80      0.65      0.71       407\n",
      "\n",
      "    accuracy                           0.71      1000\n",
      "   macro avg       0.70      0.70      0.70      1000\n",
      "weighted avg       0.72      0.71      0.71      1000\n",
      "\n"
     ]
    }
   ],
   "source": [
    "# Predict on test set\n",
    "test_mask = pubmed_data[0].test_mask.numpy()\n",
    "X_test = X[test_mask]\n",
    "y_test = y[test_mask]\n",
    "y_test_pred_logreg = logreg.predict(X_test)\n",
    "# Evaluate\n",
    "acc_logreg = accuracy_score(y_test, y_test_pred_logreg)\n",
    "report_logreg = classification_report(y_test, y_test_pred_logreg)\n",
    "print(f\"Test Accuracy (Logistic Regression): {acc_logreg:.4f}\")\n",
    "print(\"Classification Report (Logistic Regression):\\n\", report_logreg)"
   ]
  },
  {
   "cell_type": "markdown",
   "id": "27cbe721",
   "metadata": {},
   "source": [
    "## Node Classification Using node2vec Embeddings"
   ]
  },
  {
   "cell_type": "code",
   "execution_count": 23,
   "id": "cc26009c",
   "metadata": {},
   "outputs": [],
   "source": [
    "train_output = torch.load(\n",
    "    \"checkpoints/run_20250712_151314/ckpt_epoch_0_batch_269568.pt\"\n",
    "    )['model_state_dict']"
   ]
  },
  {
   "cell_type": "code",
   "execution_count": 24,
   "id": "4a2758f6",
   "metadata": {},
   "outputs": [],
   "source": [
    "# Get train and validation masks from the Planetoid dataset\n",
    "train_mask = pubmed_data[0].train_mask.numpy()\n",
    "val_mask = pubmed_data[0].val_mask.numpy()\n",
    "labels_all = pubmed_data[0].y.numpy()\n",
    "\n",
    "# Prepare train and validation sets using node embeddings\n",
    "X = train_output['inp_emb.weight'].detach().cpu().numpy()\n",
    "y = labels_all\n",
    "\n",
    "X_train = X[train_mask]\n",
    "y_train = y[train_mask]\n",
    "X_val = X[val_mask]\n",
    "y_val = y[val_mask]"
   ]
  },
  {
   "cell_type": "markdown",
   "id": "f68e01d6",
   "metadata": {},
   "source": [
    "### Performance on Validation and Testing Sets"
   ]
  },
  {
   "cell_type": "code",
   "execution_count": 25,
   "id": "459b66e8",
   "metadata": {},
   "outputs": [
    {
     "name": "stdout",
     "output_type": "stream",
     "text": [
      "Validation Accuracy (Logistic Regression): 0.7000\n",
      "Classification Report (Logistic Regression):\n",
      "               precision    recall  f1-score   support\n",
      "\n",
      "           0       0.58      0.78      0.66        98\n",
      "           1       0.72      0.73      0.72       194\n",
      "           2       0.77      0.63      0.70       208\n",
      "\n",
      "    accuracy                           0.70       500\n",
      "   macro avg       0.69      0.71      0.69       500\n",
      "weighted avg       0.71      0.70      0.70       500\n",
      "\n"
     ]
    }
   ],
   "source": [
    "\n",
    "# Train logistic regression on train set\n",
    "logreg = LogisticRegression(max_iter=1000, solver='lbfgs')\n",
    "logreg.fit(X_train, y_train)\n",
    "\n",
    "# Predict on validation set\n",
    "y_val_pred_logreg = logreg.predict(X_val)\n",
    "\n",
    "# Evaluate\n",
    "acc_logreg = accuracy_score(y_val, y_val_pred_logreg)\n",
    "report_logreg = classification_report(y_val, y_val_pred_logreg)\n",
    "print(f\"Validation Accuracy (Logistic Regression): {acc_logreg:.4f}\")\n",
    "print(\"Classification Report (Logistic Regression):\\n\", report_logreg)"
   ]
  },
  {
   "cell_type": "code",
   "execution_count": 26,
   "id": "cf6d9b84",
   "metadata": {},
   "outputs": [
    {
     "name": "stdout",
     "output_type": "stream",
     "text": [
      "Test Accuracy (Logistic Regression): 0.6970\n",
      "Classification Report (Logistic Regression):\n",
      "               precision    recall  f1-score   support\n",
      "\n",
      "           0       0.61      0.71      0.66       180\n",
      "           1       0.70      0.71      0.71       413\n",
      "           2       0.74      0.68      0.71       407\n",
      "\n",
      "    accuracy                           0.70      1000\n",
      "   macro avg       0.68      0.70      0.69      1000\n",
      "weighted avg       0.70      0.70      0.70      1000\n",
      "\n"
     ]
    }
   ],
   "source": [
    "# Predict on test set\n",
    "test_mask = pubmed_data[0].test_mask.numpy()\n",
    "X_test = X[test_mask]\n",
    "y_test = y[test_mask]\n",
    "y_test_pred_logreg = logreg.predict(X_test)\n",
    "# Evaluate\n",
    "acc_logreg = accuracy_score(y_test, y_test_pred_logreg)\n",
    "report_logreg = classification_report(y_test, y_test_pred_logreg)\n",
    "print(f\"Test Accuracy (Logistic Regression): {acc_logreg:.4f}\")\n",
    "print(\"Classification Report (Logistic Regression):\\n\", report_logreg)"
   ]
  }
 ],
 "metadata": {
  "kernelspec": {
   "display_name": "Python 3 (ipykernel)",
   "language": "python",
   "name": "python3"
  },
  "language_info": {
   "codemirror_mode": {
    "name": "ipython",
    "version": 3
   },
   "file_extension": ".py",
   "mimetype": "text/x-python",
   "name": "python",
   "nbconvert_exporter": "python",
   "pygments_lexer": "ipython3",
   "version": "3.10.10"
  }
 },
 "nbformat": 4,
 "nbformat_minor": 5
}
